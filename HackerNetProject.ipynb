{
 "cells": [
  {
   "cell_type": "markdown",
   "metadata": {
    "collapsed": true
   },
   "source": [
    "# Hacker DataQuest Project#\n",
    "\n",
    "## Introduction ## \n",
    "Hacker News is a site started by the startup incubator Y Combinator, where user-submitted stories (known as \"posts\") are voted and commented upon, similar to reddit. Hacker News is extremely popular in technology and startup circles, and posts that make it to the top of Hacker News' listings can get hundreds of thousands of visitors as a result."
   ]
  },
  {
   "cell_type": "code",
   "execution_count": 2,
   "metadata": {
    "collapsed": false
   },
   "outputs": [
    {
     "name": "stdout",
     "output_type": "stream",
     "text": [
      "[['id', 'title', 'url', 'num_points', 'num_comments', 'author', 'created_at'], ['12224879', 'Interactive Dynamic Video', 'http://www.interactivedynamicvideo.com/', '386', '52', 'ne0phyte', '8/4/2016 11:52'], ['10975351', 'How to Use Open Source and Shut the Fuck Up at the Same Time', 'http://hueniverse.com/2016/01/26/how-to-use-open-source-and-shut-the-fuck-up-at-the-same-time/', '39', '10', 'josep2', '1/26/2016 19:30'], ['11964716', \"Florida DJs May Face Felony for April Fools' Water Joke\", 'http://www.thewire.com/entertainment/2013/04/florida-djs-april-fools-water-joke/63798/', '2', '1', 'vezycash', '6/23/2016 22:20'], ['11919867', 'Technology ventures: From Idea to Enterprise', 'https://www.amazon.com/Technology-Ventures-Enterprise-Thomas-Byers/dp/0073523429', '3', '1', 'hswarna', '6/17/2016 0:01']]\n"
     ]
    }
   ],
   "source": [
    "from csv import reader \n",
    "opened_file = open('hacker_news.csv')\n",
    "read_file = reader(opened_file)\n",
    "hn = list(read_file)\n",
    "print(hn[:5])"
   ]
  },
  {
   "cell_type": "markdown",
   "metadata": {},
   "source": [
    "## Column Definitions\n",
    "\n",
    "The columns of this data are:\n",
    "\n",
    "| Title | Definition |\n",
    "| --- | --- |\n",
    "|id | The unique identifier from Hacker News for the post |\n",
    "|title | The title of the post |\n",
    "|url|The URL that the posts links to, if it the post has a URL |\n",
    "|num_points |The number of points the post acquired, calculated as the total number of upvotes minus the total number of downvotes |\n",
    "|num_comments |The number of comments that were made on the post |\n",
    "|author |The username of the person who submitted the post |\n",
    "|created_at | The date and time at which the post was submitted|\n"
   ]
  },
  {
   "cell_type": "markdown",
   "metadata": {},
   "source": []
  },
  {
   "cell_type": "markdown",
   "metadata": {},
   "source": [
    "## Seperating The Data\n",
    "\n",
    "The below code is to seperate the header row from the rest of the data set:"
   ]
  },
  {
   "cell_type": "code",
   "execution_count": 3,
   "metadata": {
    "collapsed": false
   },
   "outputs": [
    {
     "name": "stdout",
     "output_type": "stream",
     "text": [
      "['id', 'title', 'url', 'num_points', 'num_comments', 'author', 'created_at']\n"
     ]
    }
   ],
   "source": [
    "headers = hn[0]\n",
    "print(headers)"
   ]
  },
  {
   "cell_type": "code",
   "execution_count": 4,
   "metadata": {
    "collapsed": false
   },
   "outputs": [
    {
     "name": "stdout",
     "output_type": "stream",
     "text": [
      "[['12224879', 'Interactive Dynamic Video', 'http://www.interactivedynamicvideo.com/', '386', '52', 'ne0phyte', '8/4/2016 11:52'], ['10975351', 'How to Use Open Source and Shut the Fuck Up at the Same Time', 'http://hueniverse.com/2016/01/26/how-to-use-open-source-and-shut-the-fuck-up-at-the-same-time/', '39', '10', 'josep2', '1/26/2016 19:30'], ['11964716', \"Florida DJs May Face Felony for April Fools' Water Joke\", 'http://www.thewire.com/entertainment/2013/04/florida-djs-april-fools-water-joke/63798/', '2', '1', 'vezycash', '6/23/2016 22:20'], ['11919867', 'Technology ventures: From Idea to Enterprise', 'https://www.amazon.com/Technology-Ventures-Enterprise-Thomas-Byers/dp/0073523429', '3', '1', 'hswarna', '6/17/2016 0:01'], ['10301696', 'Note by Note: The Making of Steinway L1037 (2007)', 'http://www.nytimes.com/2007/11/07/movies/07stein.html?_r=0', '8', '2', 'walterbell', '9/30/2015 4:12']]\n"
     ]
    }
   ],
   "source": [
    "hn = hn[1:]\n",
    "print(hn[:5])"
   ]
  },
  {
   "cell_type": "markdown",
   "metadata": {},
   "source": [
    "We're specifically interested in posts whose titles begin with either `Ask HN` or `Show HN`. Users submit Ask HN posts to ask the Hacker News community a specific question. Below are a couple examples:\n",
    "\n",
    "`Ask HN: How to improve my personal website?\n",
    "Ask HN: Am I the only one outraged by Twitter shutting down share counts?\n",
    "Ask HN: Aby recent changes to CSS that broke mobile?`\n",
    "\n",
    "Likewise, users submit Show HN posts to show the Hacker News community a project, product, or just generally something interesting. Below are a couple of examples:\n",
    "\n",
    "`Show HN: Wio Link  ESP8266 Based Web of Things Hardware Development Platform'\n",
    "Show HN: Something pointless I made\n",
    "Show HN: Shanhu.io, a programming playground powered by e8vm`\n",
    "\n",
    "We'll compare these two types of posts to determine the following:\n",
    "\n",
    "Do Ask HN or Show HN receive more comments on average?\n",
    "Do posts created at a certain time receive more comments on average?"
   ]
  },
  {
   "cell_type": "code",
   "execution_count": 5,
   "metadata": {
    "collapsed": false
   },
   "outputs": [
    {
     "name": "stdout",
     "output_type": "stream",
     "text": [
      "1744\n",
      "1162\n",
      "17194\n"
     ]
    }
   ],
   "source": [
    "ask_posts = []\n",
    "show_posts = []\n",
    "other_posts = []\n",
    "\n",
    "for row in hn:\n",
    "    title = row[1]\n",
    "    lower_title = title.lower() # Converts title to all lower case\n",
    "    \n",
    "    if lower_title.startswith('ask hn'):\n",
    "        ask_posts.append(row)\n",
    "    \n",
    "    elif lower_title.startswith('show hn'):\n",
    "        show_posts.append(row)\n",
    "    \n",
    "    else:\n",
    "        other_posts.append(row)\n",
    "\n",
    "print(len(ask_posts))\n",
    "print(len(show_posts))\n",
    "print(len(other_posts))"
   ]
  },
  {
   "cell_type": "markdown",
   "metadata": {},
   "source": [
    "## Data Analysis ##\n",
    "\n",
    "We found above that there are 1744 posts that start with some variation of `Ask HN` and 1162 posts that start with `Show HN`.\n",
    "\n",
    "Now these are seperated into different lists the total number of comments for each list can be found:"
   ]
  },
  {
   "cell_type": "code",
   "execution_count": 6,
   "metadata": {
    "collapsed": false
   },
   "outputs": [
    {
     "name": "stdout",
     "output_type": "stream",
     "text": [
      "The average comments on \"Ask HN\" posts is: \n",
      "14.04\n"
     ]
    }
   ],
   "source": [
    "total_ask_comments = 0\n",
    "\n",
    "for row in ask_posts:\n",
    "    num = int(row[4])\n",
    "    total_ask_comments += num\n",
    "    \n",
    "avg_ask_comments = total_ask_comments/(len(ask_posts))\n",
    "\n",
    "print('The average comments on \"Ask HN\" posts is: ')\n",
    "print('%.2f' %avg_ask_comments) #To 2.d.p\n",
    "\n",
    "    "
   ]
  },
  {
   "cell_type": "markdown",
   "metadata": {},
   "source": [
    "Similaly for `Show HN` posts:"
   ]
  },
  {
   "cell_type": "code",
   "execution_count": 7,
   "metadata": {
    "collapsed": false
   },
   "outputs": [
    {
     "name": "stdout",
     "output_type": "stream",
     "text": [
      "The average comments on \"Show HN\" posts is: \n",
      "10.32\n"
     ]
    }
   ],
   "source": [
    "total_show_comments = 0\n",
    "\n",
    "for row in show_posts:\n",
    "    num = int(row[4])\n",
    "    total_show_comments += num\n",
    "    \n",
    "avg_show_comments = total_show_comments/(len(show_posts))\n",
    "\n",
    "print('The average comments on \"Show HN\" posts is: ')\n",
    "print('%.2f' %avg_show_comments) #To 2.d.p"
   ]
  },
  {
   "cell_type": "markdown",
   "metadata": {},
   "source": [
    "On avergae then, there are roughly 40% more comments on a `Ask HN` post than a `Show HN` post"
   ]
  },
  {
   "cell_type": "markdown",
   "metadata": {},
   "source": [
    "## Date and Time Analysis\n",
    "\n",
    "Since Ask posts recieve more comments, the remainder of this analysis will focus on the `Ask_posts` list\n",
    "\n",
    "The nex step is to determine if ask posts created at a certain time are more likely to attract comments. \n",
    "\n",
    "We'll use the following steps to perform this analysis:\n",
    "\n",
    "- Calculate the amount of ask posts created in each hour of the day, along with the number of comments received.\n",
    "- Calculate the average number of comments ask posts receive by hour created.\n",
    "\n",
    "In this screen, we'll tackle the first step — calculating the amount of ask posts and comments by hour created. We'll use the `datetime` module to work with the data in the `created_at` column."
   ]
  },
  {
   "cell_type": "code",
   "execution_count": 8,
   "metadata": {
    "collapsed": false
   },
   "outputs": [
    {
     "name": "stdout",
     "output_type": "stream",
     "text": [
      "[['8/16/2016 9:55', 6], ['11/22/2015 13:43', 29], ['5/2/2016 10:14', 1], ['8/2/2016 14:20', 3], ['10/15/2015 16:38', 17]]\n"
     ]
    }
   ],
   "source": [
    "import datetime as dt\n",
    "\n",
    "result_list1 = []\n",
    "result_list2 = []\n",
    "result_list = []\n",
    "\n",
    "for row in ask_posts:\n",
    "    created_at = row[6]\n",
    "    num = int(row[4])\n",
    "    result_list.append([created_at,num])\n",
    "    \n",
    "\n",
    "print(result_list[:5])"
   ]
  },
  {
   "cell_type": "code",
   "execution_count": 9,
   "metadata": {
    "collapsed": false
   },
   "outputs": [
    {
     "name": "stdout",
     "output_type": "stream",
     "text": [
      "Counts by hour:\n",
      "{'19': 110, '17': 100, '13': 85, '09': 45, '12': 73, '14': 107, '21': 109, '05': 46, '02': 58, '03': 54, '11': 58, '15': 116, '22': 71, '16': 108, '01': 60, '20': 80, '18': 109, '23': 68, '00': 55, '10': 59, '07': 34, '04': 47, '06': 44, '08': 48}\n",
      "\n",
      "\n",
      "Comments by hour:\n",
      "{'19': 1188, '17': 1146, '13': 1253, '09': 251, '12': 687, '14': 1416, '21': 1745, '05': 464, '02': 1381, '03': 421, '11': 641, '15': 4477, '22': 479, '16': 1814, '01': 683, '20': 1722, '18': 1439, '23': 543, '00': 447, '10': 793, '07': 267, '04': 337, '06': 397, '08': 492}\n"
     ]
    }
   ],
   "source": [
    "counts_by_hour = {}\n",
    "comments_by_hour = {}\n",
    "date_format = ('%m/%d/%Y %H:%M')\n",
    "\n",
    "for row in result_list:\n",
    "    date = row[0]\n",
    "    comment = row[1]\n",
    "    date = dt.datetime.strptime(date,date_format)\n",
    "    hour = date.strftime('%H')\n",
    "    if hour not in counts_by_hour:\n",
    "        counts_by_hour[hour] = 1\n",
    "        comments_by_hour[hour] = comment\n",
    "    elif hour in counts_by_hour:\n",
    "        counts_by_hour[hour] += 1\n",
    "        comments_by_hour[hour] += comment\n",
    "    \n",
    "print('Counts by hour:')\n",
    "print(counts_by_hour)\n",
    "print('\\n')\n",
    "print('Comments by hour:')\n",
    "print(comments_by_hour)\n"
   ]
  },
  {
   "cell_type": "markdown",
   "metadata": {},
   "source": [
    "We can see that the highest number of posts occur in the afternoon to early evening i.e. 14:00 -> 19:00\n",
    "\n",
    "The largest number of comments occurs at 1500 coinciding with the most number of posts\n",
    "\n",
    "## Average Comments Per Post\n",
    "\n",
    "Next we can break down the average amount of comments per post at each time interval to find the optimum time to post."
   ]
  },
  {
   "cell_type": "code",
   "execution_count": 10,
   "metadata": {
    "collapsed": false
   },
   "outputs": [
    {
     "name": "stdout",
     "output_type": "stream",
     "text": [
      "[['19', 10.8], ['17', 11.46], ['13', 14.741176470588234], ['09', 5.5777777777777775], ['12', 9.41095890410959], ['14', 13.233644859813085], ['21', 16.009174311926607], ['05', 10.08695652173913], ['02', 23.810344827586206], ['03', 7.796296296296297], ['11', 11.051724137931034], ['15', 38.5948275862069], ['22', 6.746478873239437], ['16', 16.796296296296298], ['01', 11.383333333333333], ['20', 21.525], ['18', 13.20183486238532], ['23', 7.985294117647059], ['00', 8.127272727272727], ['10', 13.440677966101696], ['07', 7.852941176470588], ['04', 7.170212765957447], ['06', 9.022727272727273], ['08', 10.25]]\n"
     ]
    }
   ],
   "source": [
    "avg_by_hour = []\n",
    "\n",
    "for hour in comments_by_hour:\n",
    "    avg = comments_by_hour[hour]/counts_by_hour[hour]\n",
    "    avg_by_hour.append([hour , avg])\n",
    "\n",
    "print(avg_by_hour)"
   ]
  },
  {
   "cell_type": "markdown",
   "metadata": {},
   "source": [
    "Whilst all the required information is above it is difficult to read as it is not in any discernable order. \n",
    "\n",
    "The code below switches the order so that instead of hour:average the list displays average:hour and sorts in descending order"
   ]
  },
  {
   "cell_type": "code",
   "execution_count": 15,
   "metadata": {
    "collapsed": false
   },
   "outputs": [
    {
     "name": "stdout",
     "output_type": "stream",
     "text": [
      "[[10.8, '19'], [11.46, '17'], [14.741176470588234, '13'], [5.5777777777777775, '09'], [9.41095890410959, '12'], [13.233644859813085, '14'], [16.009174311926607, '21'], [10.08695652173913, '05'], [23.810344827586206, '02'], [7.796296296296297, '03'], [11.051724137931034, '11'], [38.5948275862069, '15'], [6.746478873239437, '22'], [16.796296296296298, '16'], [11.383333333333333, '01'], [21.525, '20'], [13.20183486238532, '18'], [7.985294117647059, '23'], [8.127272727272727, '00'], [13.440677966101696, '10'], [7.852941176470588, '07'], [7.170212765957447, '04'], [9.022727272727273, '06'], [10.25, '08']]\n",
      "\n",
      "\n",
      "Top 5 Hours for Ask Posts Comments\n",
      "15:00: 38.59 average comments per post\n",
      "02:00: 23.81 average comments per post\n",
      "20:00: 21.52 average comments per post\n",
      "16:00: 16.80 average comments per post\n",
      "21:00: 16.01 average comments per post\n"
     ]
    }
   ],
   "source": [
    "swap_avg_by_hour = []\n",
    "\n",
    "for row in avg_by_hour:\n",
    "    swap_avg_by_hour.append([row[1] , row[0]])\n",
    "print(swap_avg_by_hour)\n",
    "print('\\n')\n",
    "sorted_swap = sorted(swap_avg_by_hour,reverse=True)\n",
    "\n",
    "print('Top 5 Hours for Ask Posts Comments')\n",
    "\n",
    "for avg , hour in sorted_swap[:5]:\n",
    "    print('{}:00: {:.2f} average comments per post'.format(hour, avg))\n",
    "    \n",
    "        \n"
   ]
  },
  {
   "cell_type": "markdown",
   "metadata": {},
   "source": [
    "## Conclusions\n",
    "\n",
    "The time at which there is the most amount of posts is also the time at which there is the most user engagement i.e. the largest amount of comments per post on average"
   ]
  }
 ],
 "metadata": {
  "kernelspec": {
   "display_name": "Python 3",
   "language": "python",
   "name": "python3"
  },
  "language_info": {
   "codemirror_mode": {
    "name": "ipython",
    "version": 3
   },
   "file_extension": ".py",
   "mimetype": "text/x-python",
   "name": "python",
   "nbconvert_exporter": "python",
   "pygments_lexer": "ipython3",
   "version": "3.4.3"
  }
 },
 "nbformat": 4,
 "nbformat_minor": 2
}
